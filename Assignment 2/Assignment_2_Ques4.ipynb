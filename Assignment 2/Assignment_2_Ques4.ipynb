{
 "cells": [
  {
   "cell_type": "code",
   "execution_count": 1,
   "metadata": {
    "id": "m4oOZhcnWPTU"
   },
   "outputs": [],
   "source": [
    "# Copyright 2021 IITK EE604A Image Processing. All Rights Reserved.\n",
    "# \n",
    "# Licensed under the MIT License. Use and/or modification of this code outside of EE604 must reference:\n",
    "#\n",
    "# © IITK EE604A Image Processing \n",
    "#\n",
    "# Author: Dheeraj Bharti, Chiranjeev Prachand and Prof Tushar Sandhan, Department of Electrical Engineering, IIT Kanpur"
   ]
  },
  {
   "cell_type": "code",
   "execution_count": 2,
   "metadata": {
    "id": "7U2RhKVRQHra"
   },
   "outputs": [],
   "source": [
    "import argparse\n",
    "import cv2\n",
    "import numpy as np\n",
    "import math\n",
    "import matplotlib.pyplot as plt\n",
    "from collections import defaultdict\n",
    "from google.colab.patches import cv2_imshow"
   ]
  },
  {
   "cell_type": "markdown",
   "metadata": {
    "id": "cMsEKs0pWVwW"
   },
   "source": [
    "Upload 'pic2.png' file manually to your google colab working directory:\n",
    "\n",
    "1. Click on the folder drawing button on the left below the <> sign.\n",
    "2. Click on Upload to session storage button to upload the image."
   ]
  },
  {
   "cell_type": "code",
   "execution_count": 3,
   "metadata": {
    "id": "yA1DHkKrQOyP"
   },
   "outputs": [],
   "source": [
    "## In this function, after getting the edge image, circle detection will be carried out.\n",
    "\n",
    "def find_hough_circles(image, edge_image, r_min, r_max, delta_r, num_thetas, bin_threshold, post_process = True):\n",
    "\n",
    "  '''\n",
    "  Input:\n",
    "\n",
    "  image - Input 2-D RGB image\n",
    "\n",
    "  edge_image - Canny algorithm output of image variable\n",
    "\n",
    "  r_min - Min radius circle to detect. Default is 10.\n",
    "\n",
    "  r_max - Max radius circle to detect. Default is 200.\n",
    "\n",
    "  delta_r - Delta change in radius from r_min to r_max. Default is 1.\n",
    "\n",
    "  num_thetas - Number of steps for theta from 0 to 2PI. Default is 100.\n",
    "\n",
    "  bin_threshold - Thresholding value in percentage to shortlist candidate for circle. Default is 0.4 i.e. 40%.\n",
    "\n",
    "  Output:\n",
    "\n",
    "  output_image\n",
    "\n",
    "  out_circles\n",
    "\n",
    "  '''\n",
    "\n",
    "\n",
    "  img_height, img_width = edge_image.shape[:2]\n",
    "  \n",
    "  # R and Theta ranges\n",
    "  dtheta = int(360 / num_thetas)\n",
    "  \n",
    "  #######################################################################\n",
    "   # Write code according to the instruction written infront of the line.\n",
    "  #######################################################################\n",
    "\n",
    "  thetas = np.arange(0, 360, step=dtheta)       ## Use np.arange; divide 0 to 360 in dtheta steps; name it thetas ## \n",
    "  rs = np.arange(r_min, r_max, step=delta_r)    ## Use np.arange; divide radius from r_min to r_max in delta_r steps; name it rs ##\n",
    "\n",
    "  # Cos and Sin of theta values required later\n",
    "  cos_thetas = np.cos(np.deg2rad(thetas))\n",
    "  sin_thetas = np.sin(np.deg2rad(thetas))\n",
    "  \n",
    "  \n",
    "  circle_candidates = []\n",
    "  \n",
    "  for r in rs:\n",
    "    for t in range(num_thetas):\n",
    "      circle_candidates.append((r, int(r * cos_thetas[t]), int(r * sin_thetas[t])))\n",
    "   \n",
    "  accumulator = defaultdict(int)\n",
    "  \n",
    "\n",
    "  #######################################################################\n",
    "   # Write code according to the instruction written infront of the line.\n",
    "  #######################################################################\n",
    "  \n",
    "  for i in range (img_height):                         ##  Using nested for loops, for every point (x,y) in edge_image, \n",
    "    for j in range (img_width):                         #  1. for every white pixel,\n",
    "      if(edge_image[i,j] == 255):                       #  2. iterate through all three variables of circle_candidates namely r,rcos_t and rsin_t together \n",
    "        for k in range(len(circle_candidates)):                            #     and calculate x_center = x - rcos_t and y_center = y - rsin_t                                               #  3. and, increment the accumulator using accumulator[(x_center, y_center, r)] += 1\n",
    "            r,rcos_t,rsin_t = circle_candidates[k]\n",
    "            x_center = j - rcos_t\n",
    "            y_center = i - rsin_t\n",
    "            accumulator[(x_center, y_center, r)] += 1\n",
    "                                   \n",
    "  output_img = image.copy()\n",
    "  \n",
    "  out_circles = []\n",
    "  \n",
    "  #######################################################################\n",
    "   # Write code according to the instruction written infront of the line.\n",
    "  #######################################################################\n",
    "\n",
    "  sorted_tuples = sorted(accumulator.items(), key=lambda item: item[1], reverse=True)           \n",
    "  for i in range (len(sorted_tuples)):\n",
    "    x,y=sorted_tuples[i]\n",
    "    if(y >= num_thetas*bin_threshold):\n",
    "      a,b,c = x\n",
    "      out_circles.append((a,b,c,y/num_thetas))\n",
    "      print((a,b,c,y/num_thetas))\n",
    "    else:\n",
    "      break       \n",
    "  \n",
    "  # This step further narrows down our candidates by eliminating very nearby circles \n",
    "  # and only keeps circles which are far from each other by a pixel_threshold\n",
    "  if post_process :\n",
    "    pixel_threshold = 5\n",
    "    postprocess_circles = []\n",
    "    for x, y, r, v in out_circles:\n",
    "      if all(abs(x - xc) > pixel_threshold or abs(y - yc) > pixel_threshold or abs(r - rc) > pixel_threshold for xc, yc, rc, v in postprocess_circles):\n",
    "        postprocess_circles.append((x, y, r, v))\n",
    "    out_circles = postprocess_circles\n",
    "  \n",
    "  \n",
    "  for x, y, r, v in out_circles:\n",
    "    output_img = cv2.circle(output_img, (x,y), r, (123,15,125), 2)\n",
    "  \n",
    "  return output_img, out_circles\n"
   ]
  },
  {
   "cell_type": "markdown",
   "metadata": {
    "id": "4kX-WpInBP7l"
   },
   "source": [
    "Click on Runtime and select Run all before submitting this file."
   ]
  },
  {
   "cell_type": "code",
   "execution_count": 4,
   "metadata": {
    "colab": {
     "base_uri": "https://localhost:8080/",
     "height": 1000
    },
    "id": "e-UXl5ArQQxU",
    "outputId": "3ff7595d-f786-4813-bb48-31856f5291e4"
   },
   "outputs": [
    {
     "data": {
      "image/png": "[encoded data removed]",
      "text/plain": [
       "<PIL.Image.Image image mode=L size=384x384 at 0x7FD2A2F56DD0>"
      ]
     },
     "metadata": {},
     "output_type": "display_data"
    },
    {
     "name": "stdout",
     "output_type": "stream",
     "text": [
      "Detecting Hough Circles Started!\n",
      "(139, 150, 80, 0.54)\n",
      "(242, 145, 80, 0.53)\n",
      "(195, 238, 80, 0.52)\n",
      "(239, 145, 79, 0.45)\n",
      "(191, 244, 76, 0.44)\n",
      "(138, 149, 79, 0.43)\n",
      "(135, 149, 78, 0.43)\n",
      "(238, 149, 77, 0.43)\n",
      "(192, 238, 79, 0.43)\n",
      "(191, 239, 78, 0.43)\n",
      "(191, 242, 77, 0.43)\n",
      "(190, 241, 76, 0.43)\n",
      "(241, 144, 79, 0.42)\n",
      "(238, 144, 78, 0.42)\n",
      "(135, 151, 78, 0.42)\n",
      "(237, 148, 76, 0.42)\n",
      "(194, 237, 79, 0.42)\n",
      "(191, 237, 78, 0.42)\n",
      "(240, 146, 80, 0.41)\n",
      "(141, 150, 82, 0.41)\n",
      "(137, 149, 80, 0.41)\n",
      "(136, 150, 79, 0.41)\n",
      "(138, 151, 79, 0.41)\n",
      "(238, 151, 76, 0.41)\n",
      "(238, 150, 74, 0.41)\n",
      "(134, 153, 76, 0.41)\n",
      "(194, 237, 81, 0.41)\n",
      "(187, 238, 80, 0.41)\n",
      "(192, 241, 76, 0.41)\n",
      "(191, 243, 74, 0.41)\n",
      "(244, 145, 82, 0.4)\n",
      "(238, 142, 78, 0.4)\n",
      "(240, 144, 80, 0.4)\n",
      "(241, 146, 81, 0.4)\n",
      "(138, 149, 81, 0.4)\n",
      "(135, 147, 78, 0.4)\n",
      "(138, 150, 80, 0.4)\n",
      "(138, 151, 81, 0.4)\n",
      "(137, 150, 79, 0.4)\n",
      "(238, 146, 78, 0.4)\n",
      "(239, 148, 76, 0.4)\n",
      "(135, 154, 77, 0.4)\n",
      "(134, 154, 76, 0.4)\n",
      "(135, 156, 76, 0.4)\n",
      "(136, 153, 76, 0.4)\n",
      "(197, 238, 82, 0.4)\n",
      "(193, 237, 80, 0.4)\n",
      "(193, 238, 79, 0.4)\n",
      "(194, 239, 79, 0.4)\n",
      "(135, 155, 74, 0.4)\n",
      "(190, 242, 76, 0.4)\n"
     ]
    },
    {
     "data": {
      "image/png": "[encoded data removed]",
      "text/plain": [
       "<PIL.Image.Image image mode=RGB size=384x384 at 0x7FD2A2599710>"
      ]
     },
     "metadata": {},
     "output_type": "display_data"
    },
    {
     "name": "stdout",
     "output_type": "stream",
     "text": [
      "Detecting Hough Circles Complete!\n"
     ]
    }
   ],
   "source": [
    "###################################################################\n",
    "## Try to vary these values and observe the change in output   ###\n",
    "## The best values may or may not be the given values          ####\n",
    "r_min = 70\n",
    "r_max = 85\n",
    "delta_r = 1\n",
    "num_thetas = 100\n",
    "bin_threshold = 0.4\n",
    "min_edge_threshold = 100\n",
    "max_edge_threshold = 200\n",
    "###################################################################\n",
    "\n",
    "input_img = cv2.imread('pic2.png')\n",
    "edge_image = cv2.cvtColor(input_img, cv2.COLOR_BGR2GRAY)\n",
    "edge_image = cv2.Canny(edge_image, min_edge_threshold, max_edge_threshold)\n",
    "cv2_imshow(edge_image)\n",
    "cv2.waitKey(0)\n",
    "\n",
    "if edge_image is not None:\n",
    "    \n",
    "    print (\"Detecting Hough Circles Started!\")\n",
    "    circle_img, circles = find_hough_circles(input_img, edge_image, r_min, r_max, delta_r, num_thetas, bin_threshold)\n",
    "    cv2_imshow( circle_img)\n",
    "    cv2.waitKey(0)\n",
    "    \n",
    "    \n",
    "else:\n",
    "    print (\"Error in input image!\")\n",
    "        \n",
    "print (\"Detecting Hough Circles Complete!\")\n"
   ]
  }
 ],
 "metadata": {
  "colab": {
   "collapsed_sections": [],
   "name": "20204421_Assignment_2_Ques4.ipynb",
   "provenance": []
  },
  "kernelspec": {
   "display_name": "Python 3",
   "language": "python",
   "name": "python3"
  },
  "language_info": {
   "codemirror_mode": {
    "name": "ipython",
    "version": 3
   },
   "file_extension": ".py",
   "mimetype": "text/x-python",
   "name": "python",
   "nbconvert_exporter": "python",
   "pygments_lexer": "ipython3",
   "version": "3.7.4"
  }
 },
 "nbformat": 4,
 "nbformat_minor": 1
}
