{
  "nbformat": 4,
  "nbformat_minor": 0,
  "metadata": {
    "colab": {
      "name": "20204421_assgn1_q1.ipynb",
      "provenance": [],
      "collapsed_sections": []
    },
    "kernelspec": {
      "display_name": "Python 3",
      "language": "python",
      "name": "python3"
    },
    "language_info": {
      "codemirror_mode": {
        "name": "ipython",
        "version": 3
      },
      "file_extension": ".py",
      "mimetype": "text/x-python",
      "name": "python",
      "nbconvert_exporter": "python",
      "pygments_lexer": "ipython3",
      "version": "3.7.4"
    }
  },
  "cells": [
    {
      "cell_type": "code",
      "metadata": {
        "id": "SYthSHOzk5cX"
      },
      "source": [
        "# Copyright 2021 IITK EE604A Image Processing. All Rights Reserved.\n",
        "# \n",
        "# Licensed under the MIT License. Use and/or modification of this code outside of EE604 must reference:\n",
        "#\n",
        "# © IITK EE604A Image Processing \n",
        "#\n",
        "# Author: Dheeraj Bharti, Chiranjeev Prachand and Prof K. S. Venkatesh, Department of Electrical Engineering, IIT Kanpur"
      ],
      "execution_count": 1,
      "outputs": []
    },
    {
      "cell_type": "markdown",
      "metadata": {
        "id": "OL39cjeemAFS"
      },
      "source": [
        "Question 1.\n",
        "\n",
        "In this question, we create an image by creating a matrix using numpy module. There are two subparts, one creates a binary image consisting of only 2 levels. and second a coloured image."
      ]
    },
    {
      "cell_type": "code",
      "metadata": {
        "id": "i6ovT_B2nJXT"
      },
      "source": [
        "import numpy as np\n",
        "import cv2"
      ],
      "execution_count": 2,
      "outputs": []
    },
    {
      "cell_type": "code",
      "metadata": {
        "id": "NveWVIFJnTdq"
      },
      "source": [
        "def binary_shapes():\n",
        "  '''\n",
        "  Write a program to generate a binary image of 512 x 512 pixels. The image should have a black (pixel value 0) boundary having a width of 40 pixels. \n",
        "  After the black boundary, create a white (pixel value 255) square. Inside this square, create a black circle having the diameter equal to the length \n",
        "  of the square. Lastly create a white equilateral triangle inscribed within the circle.\n",
        "\n",
        "  Inputs:\n",
        "  no inputs\n",
        "\n",
        "  Outputs: \n",
        "  out_img - numpy array (of dtype np.uint8) containing the output image.\n",
        "  \n",
        "  Allowed external package:\n",
        "    + You cannot use cv2.circle to draw circle and cv2.fillPoly() to draw triangle . \n",
        "    + You are not allowed to use any other external package.\n",
        "\n",
        "  '''\n",
        "\n",
        "  out_img = np.zeros((512, 512), dtype=np.uint8) # Intialise with blank display\n",
        "    \n",
        "  #############################\n",
        "  # Start your code from here #\n",
        "  #############################\n",
        "    \n",
        "  for x in range(0,512,1):\n",
        "    for y in range(0,512,1):\n",
        "        \n",
        "      if (x>39) and (x<473):           # Formation of white square\n",
        "        if(y>39) and (y<473):\n",
        "            out_img[x,y]=255\n",
        "        \n",
        "      if (((x - 256)*(x - 256)) + ((y - 256)*(y - 256)) < 46750) :     # Formation of black circle\n",
        "        out_img[x,y]=0\n",
        "        \n",
        "      if (x+(1.73*y) > 484.85) and ((1.73*y)-x < 402) and (x < 365):     #Formation of white Equilateral triangle\n",
        "            out_img[x,y]=255\n",
        "\n",
        "    \n",
        "    \n",
        "  #############################\n",
        "  # End your code here ########\n",
        "  #############################    \n",
        "    \n",
        "  return np.uint8(out_img)"
      ],
      "execution_count": 3,
      "outputs": []
    },
    {
      "cell_type": "code",
      "metadata": {
        "id": "EMmj9TEpqrub",
        "colab": {
          "base_uri": "https://localhost:8080/",
          "height": 529
        },
        "outputId": "1d5626c1-a77e-43af-893d-025f2848ab4f"
      },
      "source": [
        "# Test Run\n",
        "from google.colab.patches import cv2_imshow\n",
        "img = binary_shapes()\n",
        "cv2_imshow(img)"
      ],
      "execution_count": 4,
      "outputs": [
        {
          "output_type": "display_data",
          "data": {
            "image/png": "[encoded data removed]",
            "text/plain": [
              "<PIL.Image.Image image mode=L size=512x512 at 0x7F1C382F7210>"
            ]
          },
          "metadata": {}
        }
      ]
    },
    {
      "cell_type": "code",
      "metadata": {
        "id": "vampjMYMs14c"
      },
      "source": [
        "def color_shape():\n",
        "  '''\n",
        "  You have to create an image similar to the previous one but instead of binary this image will be coloured one. \n",
        "  An colour image consists of three matrix each for R,G,B channel. The shapes will remain same as the above image but the colour of boundary will be white,\n",
        "  squre should be in blue, cirlce should be in red and the triangle should be green. Create the R,G,B matrices respectively.\n",
        "\n",
        "  Inputs:\n",
        "  no inputs\n",
        "\n",
        "  Outputs: \n",
        "  out_img - numpy array (of dtype np.uint8) containing the output image.\n",
        "\n",
        "  Allowed external package:\n",
        "    + You cannot use cv2.circle to draw circle and cv2.fillPoly() to draw triangle . \n",
        "    + You are not allowed to use any other external package.\n",
        "\n",
        "  '''\n",
        "\n",
        "  r = np.zeros((512, 512), dtype=np.uint8) # Intialise the red channel matrix\n",
        "  g = np.zeros((512, 512), dtype=np.uint8) # Intialise the green channel matrix\n",
        "  b = np.zeros((512, 512), dtype=np.uint8) # Intialise the blue channel matrix\n",
        "\n",
        "  #############################\n",
        "  # Start your code from here #\n",
        "  #############################\n",
        "    \n",
        "  for x in range(0,512,1):\n",
        "    for y in range (0,512,1):\n",
        "      b[x,y]=255                            # Formation of white border\n",
        "      g[x,y]=255\n",
        "      r[x,y]=255\n",
        "      if (x>39)and(x<473):               # Formation of blue square\n",
        "        if (y>39)and(y<473):\n",
        "                    g[x,y]=0\n",
        "                    r[x,y]=0\n",
        "                    b[x,y]=255\n",
        "        if(((x - 256)*(x - 256)) + ((y - 256)*(y - 256)) < 46750):          # Formation of red circle\n",
        "                b[x,y]=0\n",
        "                g[x,y]=0\n",
        "                r[x,y]=255\n",
        "        if(x+(1.73*y) > 484.85) and ((1.73*y)-x < 402) and (x < 365):        # Formation of green Equilateral triangle\n",
        "                b[x,y]=0\n",
        "                g[x,y]=255\n",
        "                r[x,y]=0\n",
        "    \n",
        "  #############################\n",
        "  # End your code here ########\n",
        "  #############################    \n",
        "\n",
        "  out_img_2 = cv2.merge((b,g,r))     #merging the r,g,b channels\n",
        "  return np.uint8(out_img_2)\n"
      ],
      "execution_count": 5,
      "outputs": []
    },
    {
      "cell_type": "code",
      "metadata": {
        "id": "_wp3ocLzv3B1",
        "colab": {
          "base_uri": "https://localhost:8080/",
          "height": 529
        },
        "outputId": "915bd5c3-db41-4249-de37-577a4ec0ae2a"
      },
      "source": [
        "# Test Run\n",
        "img_1 = color_shape()\n",
        "cv2_imshow(img_1)"
      ],
      "execution_count": 6,
      "outputs": [
        {
          "output_type": "display_data",
          "data": {
            "image/png": "[encoded data removed]",
            "text/plain": [
              "<PIL.Image.Image image mode=RGB size=512x512 at 0x7F1C382900D0>"
            ]
          },
          "metadata": {}
        }
      ]
    },
    {
      "cell_type": "code",
      "metadata": {
        "id": "IrdtSFLsEJZE"
      },
      "source": [
        ""
      ],
      "execution_count": 6,
      "outputs": []
    }
  ]
}