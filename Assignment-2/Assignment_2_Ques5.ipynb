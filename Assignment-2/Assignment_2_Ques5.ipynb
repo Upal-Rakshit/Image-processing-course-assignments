{
 "cells": [
  {
   "cell_type": "code",
   "execution_count": 1,
   "metadata": {
    "id": "UrgBO4dvwdEA"
   },
   "outputs": [],
   "source": [
    "# Copyright 2021 IITK EE604A Image Processing. All Rights Reserved.\n",
    "# \n",
    "# Licensed under the MIT License. Use and/or modification of this code outside of EE604 must reference:\n",
    "#\n",
    "# © IITK EE604A Image Processing \n",
    "#\n",
    "# Author: Dheeraj Bharti, Chiranjeev Prachand and Prof Tushar Sandhan, Department of Electrical Engineering, IIT Kanpur"
   ]
  },
  {
   "cell_type": "markdown",
   "metadata": {
    "id": "sbAq7VIIwkrC"
   },
   "source": [
    "Did you notice the slow speeds of the previous parts where lines and circles are detected using Hough Transform.\n",
    "\n",
    "You can calculate run time of the previous codes using time() function in time module.\n",
    "\n",
    "List atleast three reasons for the algorithm taking so much time."
   ]
  },
  {
   "cell_type": "code",
   "execution_count": 2,
   "metadata": {
    "colab": {
     "base_uri": "https://localhost:8080/"
    },
    "id": "Xc2XFuTUxbqT",
    "outputId": "fabf139f-acad-41ce-d713-c33fcbf6bd27"
   },
   "outputs": [
    {
     "name": "stdout",
     "output_type": "stream",
     "text": [
      "1. In case of Hough transform we are iterating whole theta range, but most of the theta values will not put significant effect on the result. \n",
      "\n",
      "2. In case of circle detection through Hough transform, allowed circle radius range is higher than the required range. \n",
      "\n",
      "3. After few iterations the accumulator values which are not increasing significantly is iterated again and again.\n"
     ]
    }
   ],
   "source": [
    "reasons = \"\"\"1. In case of Hough transform we are iterating whole theta range, but most of the theta values will not put significant effect on the result. \n",
    "\n",
    "2. In case of circle detection through Hough transform, allowed circle radius range is higher than the required range. \n",
    "\n",
    "3. After few iterations the accumulator values which are not increasing significantly is iterated again and again.\"\"\"   #Replace ... by your reasons\n",
    "print(reasons)"
   ]
  },
  {
   "cell_type": "markdown",
   "metadata": {
    "id": "GoenKN2_xVQD"
   },
   "source": [
    "Suggest atleast two methods to speed up the algorithm."
   ]
  },
  {
   "cell_type": "code",
   "execution_count": 3,
   "metadata": {
    "colab": {
     "base_uri": "https://localhost:8080/"
    },
    "id": "O-vVRDFPx1WZ",
    "outputId": "0a2fb42c-3502-4e2d-bc42-eeeaf291b80f"
   },
   "outputs": [
    {
     "name": "stdout",
     "output_type": "stream",
     "text": [
      "1. Mid-Point Hough Transform method: In this method randomly two unequal edge point is chosen and their midpoint is calculated. If the midpoint is also edge point then \n",
      "rho and theta for all three points are calculated and if they are equal corresponding accumulator valus is increased. This is repeated until all edge points are covered. \n",
      "\n",
      "2. Using Convolutional approach: Using convolution gradient is determined for each eadge point and theta is varied around this gradient. It reduces time complexity and \n",
      "leads to correct Hough point in Hough space.\n"
     ]
    }
   ],
   "source": [
    "methods = \"\"\"1. Mid-Point Hough Transform method: In this method randomly two unequal edge point is chosen and their midpoint is calculated. If the midpoint is also edge point then \n",
    "rho and theta for all three points are calculated and if they are equal corresponding accumulator valus is increased. This is repeated until all edge points are covered. \n",
    "\n",
    "2. Using Convolutional approach: Using convolution gradient is determined for each eadge point and theta is varied around this gradient. It reduces time complexity and \n",
    "leads to correct Hough point in Hough space.\"\"\"   #Replace ... by your methods\n",
    "print(methods)"
   ]
  },
  {
   "cell_type": "markdown",
   "metadata": {
    "id": "yqkHQ924x6K0"
   },
   "source": [
    "Implement any one of the above methods on either line or circle detection code (your own code) and calculate the time taken by your method."
   ]
  },
  {
   "cell_type": "code",
   "execution_count": 4,
   "metadata": {
    "id": "PUDGtEahyMfy"
   },
   "outputs": [],
   "source": [
    "import numpy as np\n",
    "import imageio\n",
    "import math\n",
    "import matplotlib.pyplot as plt\n",
    "import time\n",
    "import cv2"
   ]
  },
  {
   "cell_type": "code",
   "execution_count": 5,
   "metadata": {
    "id": "3cFOCBCbRFuf"
   },
   "outputs": [],
   "source": [
    "start = time.time()\n",
    "img = imageio.imread('pic1.png')      "
   ]
  },
  {
   "cell_type": "code",
   "execution_count": 6,
   "metadata": {
    "id": "Nlsj5zODRGQU"
   },
   "outputs": [],
   "source": [
    "def line_detect_hough(img, angle_step=1, lines_are_white=True, value_threshold=5):\n",
    "    \n",
    "    \"\"\"\n",
    "    Input:\n",
    "\n",
    "    img - 2-D binary image\n",
    "    \n",
    "    angle_step - Spacing between angles between -90 and 90 degrees. Default step is 1.\n",
    "\n",
    "    lines_are_white - boolean indicating whether lines to be detected are white\n",
    "\n",
    "    value_threshold - Pixel values above or below the value_threshold are edges\n",
    "\n",
    "    Returns:\n",
    "    \n",
    "    accumulator - 2D array of the hough transform accumulator\n",
    "    \n",
    "    theta - Array of angles used in computation, in radians.\n",
    "    \n",
    "    rhos - Array of rho values. Max size is 2 times the diagonal\n",
    "           distance of the input image.\n",
    "    \"\"\"\n",
    "\n",
    "    thetas = np.deg2rad(np.arange(-90.0, 90.0, angle_step))\n",
    "    num_thetas = len(thetas) \n",
    "    width, height = img.shape\n",
    "    diag_len = int(round(math.sqrt(width * width + height * height)))\n",
    "    rhos = np.linspace(-diag_len, diag_len, diag_len * 2)\n",
    "    \n",
    "\n",
    "    ####################################################\n",
    "    # calculate cosine values and sine values of theta\n",
    "    ####################################################\n",
    "\n",
    "    cos_t = np.cos(thetas) \n",
    "    \n",
    "\n",
    "    sin_t = np.sin(thetas) \n",
    "    \n",
    "\n",
    "    ###########################\n",
    "    # Hough accumulator array\n",
    "    ###########################\n",
    "    \n",
    "    \n",
    "    accumulator = np.zeros((2*diag_len, num_thetas), dtype=np.uint8)    \n",
    "                                 \n",
    "    \n",
    "  \n",
    "    #################################################################################################################\n",
    "    # Finding where are black and white pixels and storing the indexes of the white edge pixels in x_idxs and y_idxs\n",
    "    #################################################################################################################\n",
    "    \n",
    "    x_idxs = np.zeros((1,height*width))    \n",
    "    y_idxs = np.zeros((1,height*width))      \n",
    "    index = 0\n",
    "    \n",
    "    for i in range(height):\n",
    "        for j in range(width):\n",
    "            if(img[i,j] == 255):\n",
    "                    x_idxs[0,index]=j\n",
    "                    y_idxs[0,index]=i\n",
    "                    index=index+1\n",
    "\n",
    "\n",
    "    ############################################################################################\n",
    "    # Applying Sobel filter and considering thetas only around gradient of corresponding pixels\n",
    "    ############################################################################################\n",
    "    \n",
    "    Kx = np.array ([[-1, 0, 1], [-2, 0, 2], [-1, 0, 1]])  \n",
    "  \n",
    "    Ky = np.array ([[1, 2, 1], [0, 0, 0], [-1, -2, -1]])\n",
    "\n",
    "    Mx = cv2.filter2D(img,-1,Kx)\n",
    "    \n",
    "    My = cv2.filter2D(img,-1,Ky)\n",
    "    \n",
    "    t_h = np.arctan2(My, Mx) * 180 / np.pi\n",
    "    \n",
    "    for i in range(index):  \n",
    "        phi = int(t_h[int(y_idxs[0,i]),int(x_idxs[0,i])])\n",
    "        if(phi<-90):\n",
    "            phi = phi + 180\n",
    "        elif(phi>=90):\n",
    "            phi = phi - 180\n",
    "        for j in range(phi+89,phi+91):                                                       \n",
    "            rho = diag_len + int(round(x_idxs[0,i] * cos_t[j] + y_idxs[0,i] * sin_t[j]))   \n",
    "            accumulator[rho,j]=accumulator[rho,j]+1\n",
    "                                       \n",
    "                                      \n",
    "                                       \n",
    "    \n",
    "    \n",
    "    return accumulator, thetas, rhos"
   ]
  },
  {
   "cell_type": "code",
   "execution_count": 7,
   "metadata": {
    "id": "paO_6cY4RGrT"
   },
   "outputs": [],
   "source": [
    "def display_hough(img, accumulator, thetas, rhos, save_path=None):\n",
    "    \n",
    "    fig, ax = plt.subplots(1, 2, figsize=(10, 20))\n",
    "\n",
    "    ax[0].imshow(img, cmap=plt.cm.gray)\n",
    "    ax[0].set_title('Input image')\n",
    "    ax[0].axis('image')\n",
    "\n",
    "    ax[1].imshow(\n",
    "        accumulator, cmap='jet',\n",
    "        extent=[np.rad2deg(thetas[-1]), np.rad2deg(thetas[0]), rhos[-1], rhos[0]])\n",
    "    ax[1].set_aspect('equal', adjustable='box')\n",
    "    ax[1].set_title('Hough transform')\n",
    "    ax[1].set_xlabel('Angles (degrees)')\n",
    "    ax[1].set_ylabel('Distance (pixels)')\n",
    "    ax[1].axis('image')\n"
   ]
  },
  {
   "cell_type": "code",
   "execution_count": 8,
   "metadata": {
    "colab": {
     "base_uri": "https://localhost:8080/",
     "height": 1000
    },
    "id": "OAB7y2KARXXa",
    "outputId": "218ccd7e-e2a3-4292-979b-c0321ca85ef8"
   },
   "outputs": [
    {
     "data": {
      "image/png": "[encoded data removed]",
      "text/plain": [
       "<Figure size 720x1440 with 2 Axes>"
      ]
     },
     "metadata": {
      "needs_background": "light"
     },
     "output_type": "display_data"
    }
   ],
   "source": [
    "# Printing Input image and corresponding Hough transform\n",
    "\n",
    "accumulator, thetas, rhos = line_detect_hough(img)\n",
    "display_hough(img, accumulator, thetas, rhos)\n",
    "end = time.time()"
   ]
  },
  {
   "cell_type": "code",
   "execution_count": 9,
   "metadata": {
    "colab": {
     "base_uri": "https://localhost:8080/"
    },
    "id": "52GK8vfRRcZg",
    "outputId": "e3d5515f-47d7-4eb0-f916-e403ef926080"
   },
   "outputs": [
    {
     "name": "stdout",
     "output_type": "stream",
     "text": [
      "Time taken by this method is 0.3574402332305908\n"
     ]
    }
   ],
   "source": [
    "#Printing the run time for this code in seconds\n",
    "\n",
    "print(f\"Time taken by this method is {end - start}\")"
   ]
  },
  {
   "cell_type": "code",
   "execution_count": 10,
   "metadata": {
    "colab": {
     "base_uri": "https://localhost:8080/"
    },
    "id": "q6q4JXydRc4N",
    "outputId": "3ffe6128-c5cd-4980-ce5a-174e6b1e0704"
   },
   "outputs": [
    {
     "name": "stdout",
     "output_type": "stream",
     "text": [
      "Maxima value:\n",
      "66\n",
      "Corresponding rho and theta\n",
      "[508] [-0.01745329]\n"
     ]
    }
   ],
   "source": [
    "## Printing the maxima(s) in the accumulator and the rho,theta value(s) for which it occurs.\n",
    "\n",
    "accumulator, thetas, rhos = line_detect_hough(img)\n",
    "print('Maxima value:')\n",
    "print(accumulator.max())\n",
    "\n",
    "b,c = np.where(accumulator == accumulator.max())\n",
    "print('Corresponding rho and theta')\n",
    "print(b,thetas[c])"
   ]
  }
 ],
 "metadata": {
  "colab": {
   "name": "20204421_Assignment_2_Ques5.ipynb",
   "provenance": []
  },
  "kernelspec": {
   "display_name": "Python 3",
   "language": "python",
   "name": "python3"
  },
  "language_info": {
   "codemirror_mode": {
    "name": "ipython",
    "version": 3
   },
   "file_extension": ".py",
   "mimetype": "text/x-python",
   "name": "python",
   "nbconvert_exporter": "python",
   "pygments_lexer": "ipython3",
   "version": "3.7.4"
  }
 },
 "nbformat": 4,
 "nbformat_minor": 1
}
